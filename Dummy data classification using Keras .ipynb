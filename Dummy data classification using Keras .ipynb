{
 "cells": [
  {
   "cell_type": "code",
   "execution_count": null,
   "metadata": {},
   "outputs": [],
   "source": [
    "#Date: 22/12/2019\n",
    "#Author: Hillary Kirui\n",
    "#Email: hilakibe20@gmail.com\n",
    "#Phone: +254714202968\n",
    "#Description: using keras for Dummy Data classification"
   ]
  },
  {
   "cell_type": "code",
   "execution_count": null,
   "metadata": {},
   "outputs": [],
   "source": [
    "#import all the necessary libraries\n",
    "import numpy as np\n",
    "import keras\n",
    "from keras.models import Sequential\n",
    "from keras.layers import Conv2D, Dense, MaxPooling2D, Flatten, Dropout\n",
    "from keras.optimizers import SGD, RMSprop"
   ]
  },
  {
   "cell_type": "code",
   "execution_count": null,
   "metadata": {},
   "outputs": [],
   "source": [
    "#Generate some dummy data\n",
    "x_train=np.random.random((100, 100, 100, 3))\n",
    "y_train=np.random.randint(10, size=(100,1))\n",
    "y_train=keras.utils.to_categorical(y_train, num_classes=10)\n",
    "\n",
    "x_test=np.random.random((20, 100, 100, 3))\n",
    "y_test=np.random.randint(10, size=(100,3))\n",
    "y_test=keras.utils.to_categorical(y_tes, num_classes=10)"
   ]
  },
  {
   "cell_type": "code",
   "execution_count": null,
   "metadata": {},
   "outputs": [],
   "source": [
    "#creating the actual model\n",
    "model=Sequential()\n",
    "#Input: 100x100 images with 3 channels--> (100,100,3) tensors\n",
    "#this feeds into a 32 filters of 3x3 each\n",
    "model.add(Conv2D(32, (3,3), activation='relu', input_shape=(100,100,3)))\n",
    "model.add(Conv2D(32, (3,3), activation='relu'))\n",
    "model.add(MaxPooling2D(pool_size=(2,2)))\n",
    "model.add(Dropout(0.25))\n",
    "\n",
    "model.add(Conv2D(64, (3,3), activation='relu'))\n",
    "model.add(Conv2D(64, (3,3), activation='relu'))\n",
    "model.add(MaxPooling2D(pool_size=(2,2)))\n",
    "model.add(Dropout(0.25))\n",
    "\n",
    "model.add(Flatten())\n",
    "model.add(Dense(256, activation='relu'))\n",
    "model.add(Dropout(0.5))\n",
    "model.add(Dense(10, activation='softmax'))"
   ]
  },
  {
   "cell_type": "code",
   "execution_count": null,
   "metadata": {},
   "outputs": [],
   "source": [
    "# Gives the summary of our created model(graph)\n",
    "model.summary()"
   ]
  },
  {
   "cell_type": "code",
   "execution_count": null,
   "metadata": {},
   "outputs": [],
   "source": [
    "#Add an optimizer and the loss function \n",
    "#Customize the SGD optimizer first \n",
    "sgd=SGD(lr=0.01, decay=1e-6, momentum=0.9,nesterov=True )\n",
    "\n",
    "model.compile(loss='categorical_crossentropy',\n",
    "             optimizer=sgd,\n",
    "             metrics=['accuracy'])"
   ]
  },
  {
   "cell_type": "code",
   "execution_count": null,
   "metadata": {},
   "outputs": [],
   "source": [
    "#perform the actual training \n",
    "model.fit(x_train, y_train, batch_size=32, epochs=10)\n"
   ]
  }
 ],
 "metadata": {
  "kernelspec": {
   "display_name": "Python 3",
   "language": "python",
   "name": "python3"
  },
  "language_info": {
   "codemirror_mode": {
    "name": "ipython",
    "version": 3
   },
   "file_extension": ".py",
   "mimetype": "text/x-python",
   "name": "python",
   "nbconvert_exporter": "python",
   "pygments_lexer": "ipython3",
   "version": "3.7.3"
  }
 },
 "nbformat": 4,
 "nbformat_minor": 2
}
